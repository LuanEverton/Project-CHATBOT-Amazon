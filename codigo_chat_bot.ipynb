{
  "nbformat": 4,
  "nbformat_minor": 0,
  "metadata": {
    "colab": {
      "provenance": [],
      "include_colab_link": true
    },
    "kernelspec": {
      "name": "python3",
      "display_name": "Python 3"
    },
    "language_info": {
      "name": "python"
    }
  },
  "cells": [
    {
      "cell_type": "markdown",
      "metadata": {
        "id": "view-in-github",
        "colab_type": "text"
      },
      "source": [
        "<a href=\"https://colab.research.google.com/github/LuanEverton/Project-CHATBOT-Amazon/blob/main/codigo_chat_bot.ipynb\" target=\"_parent\"><img src=\"https://colab.research.google.com/assets/colab-badge.svg\" alt=\"Open In Colab\"/></a>"
      ]
    },
    {
      "cell_type": "markdown",
      "source": [
        "Código CHATBOT Amazon"
      ],
      "metadata": {
        "id": "XirGOA2B9ZgH"
      }
    },
    {
      "cell_type": "code",
      "source": [
        "#!pip install openai twilio python-dotenv\n",
        "#!pip install requests\n",
        "#!pip install openai\n",
        "#!pip install boto3\n",
        "\n"
      ],
      "metadata": {
        "id": "iYL5BWxT9eHU"
      },
      "execution_count": null,
      "outputs": []
    },
    {
      "cell_type": "code",
      "source": [
        "import os #biblioteca os utilizada para acessar compornentes do sistema\n",
        "\n",
        "\n",
        "#aqui armazenamos as credenciais com o os.environ para que possa ser acessada com o getenv() depois sem que as credenciais sejam expostas.\n",
        "#nesse caso o os.environ é necessário por ser criado no colab\n",
        "os.environ[\"OPENAI_API_KEY\"] = \"SUA_CHAVE_OPENAI\"\n",
        "os.environ[\"TWILIO_SID\"] = \"SEU_TWILIO_SID\"\n",
        "os.environ[\"TWILIO_AUTH_TOKEN\"] = \"SEU_TWILIO_AUTH_TOKEN\"\n",
        "os.environ[\"TWILIO_WHATSAPP_NUMBER\"] = \"whatsapp:+14155238886\"\n",
        "os.environ[\"WHATSAPP_GROUP_NUMBER\"] = \"whatsapp:+SEU_NUMERO\"\n"
      ],
      "metadata": {
        "id": "sZs1JQ18BGwZ"
      },
      "execution_count": null,
      "outputs": []
    },
    {
      "cell_type": "code",
      "source": [
        "#bibliotecas utilzadas no chatbot\n",
        "\n",
        "import requests\n",
        "import hashlib\n",
        "import hmac\n",
        "import time\n",
        "import base64\n",
        "import openai\n",
        "import boto3"
      ],
      "metadata": {
        "id": "oQKzG4SuLZvY"
      },
      "execution_count": null,
      "outputs": []
    },
    {
      "cell_type": "code",
      "source": [
        "#configurar as credeciais da API AMAZON\n",
        "\n",
        "AWS_ACESS_KEY = os.getenv(\"AWS_KEY\")\n",
        "AWS_SECRET_KEY = os.getenv(\"AWS_SECRET_KEY\")\n",
        "ASSOCIATE_TAG = os.getenv(\"ASSOCIATE_TAG\")\n",
        "REGION = \"region\"\n",
        "ENDPOINT = \"websevice.amazon.com\"\n",
        "\n"
      ],
      "metadata": {
        "id": "qTPK2euWXxJS"
      },
      "execution_count": null,
      "outputs": []
    },
    {
      "cell_type": "markdown",
      "source": [
        "Função padrão para serviços que utlizam a API Service AWS, essa função cria sua assinatura digital que é obrigatória para utilização do serviço.\n",
        "\n"
      ],
      "metadata": {
        "id": "XoBqVMQyjU4O"
      }
    },
    {
      "cell_type": "code",
      "source": [
        "def CriandoAssinatura(paramts,secret_key):\n",
        "  sorted_params = \"&\".join(f\"{k}={params[k]}\" for k in sorted(params))\n",
        "  string_to_sign = f\"GET\\n{ENDPOINT}\\n/onca/xml\\n{sorted_params}\"\n",
        "  signature = base64.b64encode(hmac.new(\n",
        "       secret_key.encode(\"utf-8\"),\n",
        "        string_to_sign.encode(\"utf-8\"),\n",
        "        hashlib.sha256\n",
        "    ).digest()).decode(\"utf-8\")"
      ],
      "metadata": {
        "id": "KK4VTqFAjY5e"
      },
      "execution_count": null,
      "outputs": []
    },
    {
      "cell_type": "markdown",
      "source": [
        "Função padrão de busca.\n",
        "Você pode fazer algumas alterações.\n",
        "\n",
        "\n",
        "*  ***SerchIndex:*** você pode alterar para buscar categorias diferentes, por exemplo, \"Eletronics\" ou \"Books\".\n",
        "* ***ResponseGroup***: Você pode alterar para trazer mais ou menos informações do\n",
        "produto.\n",
        "* Os dados são extraidos no formato **XML.**   \n",
        "\n",
        "\n",
        "\n",
        "\n"
      ],
      "metadata": {
        "id": "QnyVzuR4umNS"
      }
    },
    {
      "cell_type": "code",
      "source": [
        "def buscar_produtos_amazon(keyword):\n",
        "    \"\"\"\n",
        "    Busca produtos na Amazon com base na palavra-chave fornecida.\n",
        "    \"\"\"\n",
        "    params = {\n",
        "        \"Service\": \"AWSECommerceService\",\n",
        "        \"Operation\": \"ItemSearch\",\n",
        "        \"AWSAccessKeyId\": AWS_ACCESS_KEY,\n",
        "        \"AssociateTag\": ASSOCIATE_TAG,\n",
        "        \"SearchIndex\": \"Promotion\",\n",
        "        \"Keywords\": keyword,\n",
        "        \"ResponseGroup\": \"Images,ItemAttributes,Offers\",\n",
        "        \"Timestamp\": time.strftime(\"%Y-%m-%dT%H:%M:%SZ\", time.gmtime())\n",
        "    }\n",
        "\n",
        "    params[\"Signature\"] = criar_assinatura(params, AWS_SECRET_KEY)\n",
        "\n",
        "    url = f\"https://{ENDPOINT}/onca/xml\"\n",
        "    response = requests.get(url, params=params)\n",
        "\n",
        "    if response.status_code == 200:\n",
        "        return response.text  # Aqui podemos processar os dados para extrair informações úteis.\n",
        "    else:\n",
        "        return f\"Erro: {response.status_code} - {response.text}\""
      ],
      "metadata": {
        "id": "sGt40-lCuMVp"
      },
      "execution_count": null,
      "outputs": []
    },
    {
      "cell_type": "markdown",
      "source": [
        "Funções para mandar o prompt para o CHATGPT e retornar o mansagem promocional"
      ],
      "metadata": {
        "id": "J_0pdngxFjHX"
      }
    },
    {
      "cell_type": "code",
      "source": [
        "def GerarMensagemPromo(categoria,produto,link):\n",
        "    prompt = f\"Crie uma mensagem criativa de promoção na categoria {categoria}, do produto {produto} e que pode ser encontrado neste link: {link}.\"\n",
        "    try:\n",
        "        response = openai.Completion.create(\n",
        "          model=\"gpt-3.5\",\n",
        "          prompt=prompt,\n",
        "          max_tokens=150,\n",
        "          temperature=0.9\n",
        "        )\n",
        "\n",
        "        mensagem = response.choices[0].text.strip()\n",
        "        return mensagem\n",
        "\n",
        "    except Exception as e:\n",
        "      print(\"Houve {} erro ao gerar a mensagem\".format((e)))\n",
        "      return None\n"
      ],
      "metadata": {
        "id": "DdtMFWTIFmEn"
      },
      "execution_count": null,
      "outputs": []
    },
    {
      "cell_type": "markdown",
      "source": [
        "Função para enviar a mensagem para o grupo do WhatsApp"
      ],
      "metadata": {
        "id": "BYKoOqLOOTZx"
      }
    },
    {
      "cell_type": "code",
      "source": [
        "def EnviarMensagemWhatsApp(mensagem):\n",
        "  cliente = twilio.Client(os.getenv(\"TWILIO_SID\"), os.getenv(\"TWILIO_AUTH_TOKEN\"))\n",
        "  mensagem = cliente.messages.create(\n",
        "      corpo = mensagem,\n",
        "      de = 'WhatsApp:' + os.getenv('TWILIO_WHATSAPP_NUMBER'),\n",
        "      para = 'WhatsApp:' + os.getenv('WHATSAPP_GROUP_NUMBER')\n",
        "  )"
      ],
      "metadata": {
        "id": "C47w8nZcdXwa"
      },
      "execution_count": null,
      "outputs": []
    },
    {
      "cell_type": "code",
      "source": [
        "client = boto3.client(\n",
        "    's3'\n",
        "    aws_access_key_id = AWS_ACESS_KEY,\n",
        "    aws_secret_access_key = AWS_SECRET_KEY,\n",
        "    region_name = REGION\n",
        ")\n"
      ],
      "metadata": {
        "id": "GVK_jOPEzVf_"
      },
      "execution_count": null,
      "outputs": []
    }
  ]
}