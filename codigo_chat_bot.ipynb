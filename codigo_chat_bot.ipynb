{
  "nbformat": 4,
  "nbformat_minor": 0,
  "metadata": {
    "colab": {
      "provenance": [],
      "authorship_tag": "ABX9TyM6lo1Q2YXV12unVW97h8Iz",
      "include_colab_link": true
    },
    "kernelspec": {
      "name": "python3",
      "display_name": "Python 3"
    },
    "language_info": {
      "name": "python"
    }
  },
  "cells": [
    {
      "cell_type": "markdown",
      "metadata": {
        "id": "view-in-github",
        "colab_type": "text"
      },
      "source": [
        "<a href=\"https://colab.research.google.com/github/LuanEverton/Project-CHATBOT-Amazon/blob/main/codigo_chat_bot.ipynb\" target=\"_parent\"><img src=\"https://colab.research.google.com/assets/colab-badge.svg\" alt=\"Open In Colab\"/></a>"
      ]
    },
    {
      "cell_type": "markdown",
      "source": [
        "Código CHATBOT Amazon"
      ],
      "metadata": {
        "id": "XirGOA2B9ZgH"
      }
    },
    {
      "cell_type": "code",
      "source": [
        "#!pip install openai twilio python-dotenv\n",
        "#!pip install requests\n",
        "\n"
      ],
      "metadata": {
        "id": "iYL5BWxT9eHU"
      },
      "execution_count": null,
      "outputs": []
    },
    {
      "cell_type": "code",
      "source": [
        "import os #biblioteca os utilizada para acessar compornentes do sistema\n",
        "\n",
        "\n",
        "#aqui armazenamos as credenciais com o os.environ para que possa ser acessada com o getenv() depois sem que as credenciais sejam expostas.\n",
        "#nesse caso o os.environ é necessário por ser criado no colab\n",
        "os.environ[\"OPENAI_API_KEY\"] = \"SUA_CHAVE_OPENAI\"\n",
        "os.environ[\"TWILIO_SID\"] = \"SEU_TWILIO_SID\"\n",
        "os.environ[\"TWILIO_AUTH_TOKEN\"] = \"SEU_TWILIO_AUTH_TOKEN\"\n",
        "os.environ[\"TWILIO_WHATSAPP_NUMBER\"] = \"whatsapp:+14155238886\"\n",
        "os.environ[\"WHATSAPP_GROUP_NUMBER\"] = \"whatsapp:+SEU_NUMERO\"\n"
      ],
      "metadata": {
        "id": "sZs1JQ18BGwZ"
      },
      "execution_count": null,
      "outputs": []
    },
    {
      "cell_type": "code",
      "source": [
        "#bibliotecas utilzadas no chatbot\n",
        "\n",
        "import requests\n",
        "import hashlib\n",
        "import hmac\n",
        "import time\n",
        "import base64"
      ],
      "metadata": {
        "id": "oQKzG4SuLZvY"
      },
      "execution_count": null,
      "outputs": []
    },
    {
      "cell_type": "code",
      "source": [
        "#configurar as credeciais da API AMAZON\n",
        "\n",
        "AWS_ACESS_KEY = os.getenv(\"AWS_KEY\")\n",
        "AWS_SECRET_KEY = os.getenv(\"AWS_SECRET_KEY\")\n",
        "ASSOCIATE_TAG = os.getenv(\"ASSOCIATE_TAG\")\n",
        "REGION = \"br-sul-1\"\n",
        "ENDPOINT = \"websevice.amazon.com\"\n",
        "\n"
      ],
      "metadata": {
        "id": "qTPK2euWXxJS"
      },
      "execution_count": null,
      "outputs": []
    }
  ]
}